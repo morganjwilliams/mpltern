{
  "cells": [
    {
      "cell_type": "code",
      "execution_count": null,
      "metadata": {
        "collapsed": false
      },
      "outputs": [],
      "source": [
        "%matplotlib inline"
      ]
    },
    {
      "cell_type": "markdown",
      "metadata": {},
      "source": [
        "\n# Plot fixed onto triangle\n\n\nYou can plot onto the fixed positions of the triangle by specifying\n`tranform=ax.transTernaryAxes`.\nThis may be particularly useful for some cases in interactive modes.\n"
      ]
    },
    {
      "cell_type": "code",
      "execution_count": null,
      "metadata": {
        "collapsed": false
      },
      "outputs": [],
      "source": [
        "import matplotlib.pyplot as plt\nfrom mpltern.ternary.datasets import get_spiral\n\n\nt, l, r = get_spiral()\nc = 1.0 / 3.0\n\nax = plt.subplot(projection='ternary')\nax.set_ternary_min(0.1, 0.2, 0.3)\n\nax.plot(t, l, r)\nax.text(c, c, c, 'Data', ha='center')\n\nax.plot(t, l, r, transform=ax.transTernaryAxes)\nax.text(c, c, c, 'Axes', ha='center', transform=ax.transTernaryAxes)\n\nplt.show()"
      ]
    }
  ],
  "metadata": {
    "kernelspec": {
      "display_name": "Python 3",
      "language": "python",
      "name": "python3"
    },
    "language_info": {
      "codemirror_mode": {
        "name": "ipython",
        "version": 3
      },
      "file_extension": ".py",
      "mimetype": "text/x-python",
      "name": "python",
      "nbconvert_exporter": "python",
      "pygments_lexer": "ipython3",
      "version": "3.7.4"
    }
  },
  "nbformat": 4,
  "nbformat_minor": 0
}