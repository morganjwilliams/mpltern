{
  "cells": [
    {
      "cell_type": "code",
      "execution_count": null,
      "metadata": {
        "collapsed": false
      },
      "outputs": [],
      "source": [
        "%matplotlib inline"
      ]
    },
    {
      "cell_type": "markdown",
      "metadata": {},
      "source": [
        "\n# Normalization\n\n\nThe normalization of ternary plots can be modified using ``ternary_scale``.\n\n<div class=\"alert alert-info\"><h4>Note</h4><p>The ternary data are automatically normalized with a few exceptions.\n    See details in :doc:`../../conventions`.</p></div>\n"
      ]
    },
    {
      "cell_type": "code",
      "execution_count": null,
      "metadata": {
        "collapsed": false
      },
      "outputs": [],
      "source": [
        "import matplotlib.pyplot as plt\nfrom mpltern.ternary.datasets import get_spiral\n\n\nfig = plt.figure()\n\nternary_scale = 0.5\nax = fig.add_subplot(projection='ternary', ternary_scale=ternary_scale)\n\nt, l, r = get_spiral()\n\nax.plot(t, l, r)  # Data are automatically normalized by `ternary_scale`.\n\nplt.show()"
      ]
    }
  ],
  "metadata": {
    "kernelspec": {
      "display_name": "Python 3",
      "language": "python",
      "name": "python3"
    },
    "language_info": {
      "codemirror_mode": {
        "name": "ipython",
        "version": 3
      },
      "file_extension": ".py",
      "mimetype": "text/x-python",
      "name": "python",
      "nbconvert_exporter": "python",
      "pygments_lexer": "ipython3",
      "version": "3.7.4"
    }
  },
  "nbformat": 4,
  "nbformat_minor": 0
}