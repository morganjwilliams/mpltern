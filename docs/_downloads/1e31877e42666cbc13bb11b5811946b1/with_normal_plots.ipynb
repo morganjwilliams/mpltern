{
  "cells": [
    {
      "cell_type": "code",
      "execution_count": null,
      "metadata": {
        "collapsed": false
      },
      "outputs": [],
      "source": [
        "%matplotlib inline"
      ]
    },
    {
      "cell_type": "markdown",
      "metadata": {},
      "source": [
        "\n# With normal Matplotlib plots\n\n\nTernary plots of mpltern can be combined with normal Matplotlib plots very\nstraightforwardly.\n"
      ]
    },
    {
      "cell_type": "code",
      "execution_count": null,
      "metadata": {
        "collapsed": false
      },
      "outputs": [],
      "source": [
        "import matplotlib.pyplot as plt\nfrom mpltern.ternary.datasets import get_spiral\n\n\nt, l, r = get_spiral()\n\nfig = plt.figure(figsize=(10.8, 4.8))\n\n# Enough space may need to make the heights of the ternary and the normal plots\n# the same.\nfig.subplots_adjust(left=0.075, right=0.95)\n\nax = fig.add_subplot(121, projection='ternary')\n\nax.plot(t, l, r, 'k')\n\nax = fig.add_subplot(122)\n\nax.plot(t)\nax.plot(l)\nax.plot(r)\n\nplt.show()"
      ]
    }
  ],
  "metadata": {
    "kernelspec": {
      "display_name": "Python 3",
      "language": "python",
      "name": "python3"
    },
    "language_info": {
      "codemirror_mode": {
        "name": "ipython",
        "version": 3
      },
      "file_extension": ".py",
      "mimetype": "text/x-python",
      "name": "python",
      "nbconvert_exporter": "python",
      "pygments_lexer": "ipython3",
      "version": "3.7.4"
    }
  },
  "nbformat": 4,
  "nbformat_minor": 0
}