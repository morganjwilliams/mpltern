{
  "cells": [
    {
      "cell_type": "code",
      "execution_count": null,
      "metadata": {
        "collapsed": false
      },
      "outputs": [],
      "source": [
        "%matplotlib inline"
      ]
    },
    {
      "cell_type": "markdown",
      "metadata": {},
      "source": [
        "\n# Pseudocolor\n\n\nPseudocolor plots can be done using ``ax.tripcolor``.\n"
      ]
    },
    {
      "cell_type": "code",
      "execution_count": null,
      "metadata": {
        "collapsed": false
      },
      "outputs": [],
      "source": [
        "import numpy as np\n\nimport matplotlib.pyplot as plt\nfrom mpltern.ternary.datasets import get_shanon_entropies\n\nt, l, r, v = get_shanon_entropies()\n\nfig = plt.figure(figsize=(10.8, 4.8))\nfig.subplots_adjust(left=0.075, right=0.85, wspace=0.3)\n\npad_title = 36\n\n# These values are for controlling the color-bar scale, and here they are\n# explicitly given just to make the same color-bar scale for all the plots.\n# In general, you may not need to explicitly specify them.\nvmin = 0.0\nvmax = 1.2\nlevels = np.linspace(vmin, vmax, 7)\n\nax = fig.add_subplot(1, 2, 1, projection='ternary')\ncs = ax.tripcolor(t, l, r, v, shading='flat', vmin=vmin, vmax=vmax)\nax.set_title(\"tripcolor(shading='flat')\", pad=pad_title)\n\ncax = ax.inset_axes([1.05, 0.1, 0.05, 0.9], transform=ax.transAxes)\ncolorbar = fig.colorbar(cs, cax=cax)\ncolorbar.set_label('Entropy', rotation=270, va='baseline')\n\nax = fig.add_subplot(1, 2, 2, projection='ternary')\ncs = ax.tripcolor(\n    t, l, r, v, shading='gouraud', vmin=vmin, vmax=vmax, rasterized=True)\nax.set_title(\"tripcolor(shading='gouraud')\", pad=pad_title)\n\ncax = ax.inset_axes([1.05, 0.1, 0.05, 0.9], transform=ax.transAxes)\ncolorbar = fig.colorbar(cs, cax=cax)\ncolorbar.set_label('Entropy', rotation=270, va='baseline')\n\nplt.show()"
      ]
    }
  ],
  "metadata": {
    "kernelspec": {
      "display_name": "Python 3",
      "language": "python",
      "name": "python3"
    },
    "language_info": {
      "codemirror_mode": {
        "name": "ipython",
        "version": 3
      },
      "file_extension": ".py",
      "mimetype": "text/x-python",
      "name": "python",
      "nbconvert_exporter": "python",
      "pygments_lexer": "ipython3",
      "version": "3.7.4"
    }
  },
  "nbformat": 4,
  "nbformat_minor": 0
}