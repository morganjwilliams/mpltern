{
  "cells": [
    {
      "cell_type": "code",
      "execution_count": null,
      "metadata": {
        "collapsed": false
      },
      "outputs": [],
      "source": [
        "%matplotlib inline"
      ]
    },
    {
      "cell_type": "markdown",
      "metadata": {},
      "source": [
        "\n# Triangle rotation\n\n\nThe triangle for a ternary plot can be rotated by `rotation`.\nAxis labels, tick labels, and tick markers are also automatically aligned.\n"
      ]
    },
    {
      "cell_type": "code",
      "execution_count": null,
      "metadata": {
        "collapsed": false
      },
      "outputs": [],
      "source": [
        "import matplotlib.pyplot as plt\nfrom mpltern.ternary.datasets import get_spiral\n\n\npad = 42\n\nt, l, r = get_spiral()\n\nfig = plt.figure(figsize=(10.8, 8.8))\nfig.subplots_adjust(\n    left=0.1, right=0.9, bottom=0.1, top=0.9, wspace=0.5, hspace=0.5)\n\nrotations = range(0, 360, 90)\nfor i, rotation in enumerate(rotations):\n    ax = fig.add_subplot(2, 2, i + 1, projection='ternary', rotation=rotation)\n\n    ax.plot(t, l, r)\n\n    ax.set_tlabel('Top')\n    ax.set_llabel('Left')\n    ax.set_rlabel('Right')\n\n    ax.set_title(\"rotation={}\".format(rotation), pad=pad)\n\nplt.show()"
      ]
    }
  ],
  "metadata": {
    "kernelspec": {
      "display_name": "Python 3",
      "language": "python",
      "name": "python3"
    },
    "language_info": {
      "codemirror_mode": {
        "name": "ipython",
        "version": 3
      },
      "file_extension": ".py",
      "mimetype": "text/x-python",
      "name": "python",
      "nbconvert_exporter": "python",
      "pygments_lexer": "ipython3",
      "version": "3.7.4"
    }
  },
  "nbformat": 4,
  "nbformat_minor": 0
}