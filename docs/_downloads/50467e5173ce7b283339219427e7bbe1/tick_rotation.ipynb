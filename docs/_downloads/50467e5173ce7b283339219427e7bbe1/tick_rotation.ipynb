{
  "cells": [
    {
      "cell_type": "code",
      "execution_count": null,
      "metadata": {
        "collapsed": false
      },
      "outputs": [],
      "source": [
        "%matplotlib inline"
      ]
    },
    {
      "cell_type": "markdown",
      "metadata": {},
      "source": [
        "\n# Tick rotation\n\n\nTick rotation can be changed via\n`ax.tick_params(labelrotation={'tick', 'axis', 'horizontal'})`.\n"
      ]
    },
    {
      "cell_type": "code",
      "execution_count": null,
      "metadata": {
        "collapsed": false
      },
      "outputs": [],
      "source": [
        "import matplotlib.pyplot as plt\nimport mpltern\n\nfig = plt.figure(figsize=(14.4, 4.8))\nfig.subplots_adjust(left=0.075, right=0.925, wspace=0.3)\n\nax = fig.add_subplot(131, projection='ternary')\nax.tick_params(labelrotation='tick')\nax.set_title(\"labelrotation='tick'\", pad=36)\n\nax = fig.add_subplot(132, projection='ternary')\nax.tick_params(labelrotation='axis')\nax.set_title(\"labelrotation='axis'\", pad=36)\n\nax = fig.add_subplot(133, projection='ternary')\nax.tick_params(labelrotation='horizontal')\nax.set_title(\"labelrotation='horizontal'\", pad=36)\n\nplt.show()"
      ]
    }
  ],
  "metadata": {
    "kernelspec": {
      "display_name": "Python 3",
      "language": "python",
      "name": "python3"
    },
    "language_info": {
      "codemirror_mode": {
        "name": "ipython",
        "version": 3
      },
      "file_extension": ".py",
      "mimetype": "text/x-python",
      "name": "python",
      "nbconvert_exporter": "python",
      "pygments_lexer": "ipython3",
      "version": "3.7.4"
    }
  },
  "nbformat": 4,
  "nbformat_minor": 0
}