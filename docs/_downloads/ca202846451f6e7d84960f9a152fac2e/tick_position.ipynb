{
  "cells": [
    {
      "cell_type": "code",
      "execution_count": null,
      "metadata": {
        "collapsed": false
      },
      "outputs": [],
      "source": [
        "%matplotlib inline"
      ]
    },
    {
      "cell_type": "markdown",
      "metadata": {},
      "source": [
        "\n# Tick position\n\n\nTick position can be changed via ``ax.opposite_ticks``.\n"
      ]
    },
    {
      "cell_type": "code",
      "execution_count": null,
      "metadata": {
        "collapsed": false
      },
      "outputs": [],
      "source": [
        "import matplotlib.pyplot as plt\nfrom mpltern.ternary.datasets import get_spiral\n\n\npad = 42\n\nt, l, r = get_spiral()\n\nfig = plt.figure(figsize=(10.8, 4.8))\nfig.subplots_adjust(wspace=0.3)\n\nbs = [False, True]\nfor i, b in enumerate(bs):\n    ax = fig.add_subplot(1, 2, i + 1, projection='ternary')\n\n    ax.plot(t, l, r)\n\n    ax.set_tlabel('Top')\n    ax.set_llabel('Left')\n    ax.set_rlabel('Right')\n\n    ax.opposite_ticks(b)\n\n    ax.set_title(\"opposite_ticks({})\".format(b), pad=pad)\n\nplt.show()"
      ]
    }
  ],
  "metadata": {
    "kernelspec": {
      "display_name": "Python 3",
      "language": "python",
      "name": "python3"
    },
    "language_info": {
      "codemirror_mode": {
        "name": "ipython",
        "version": 3
      },
      "file_extension": ".py",
      "mimetype": "text/x-python",
      "name": "python",
      "nbconvert_exporter": "python",
      "pygments_lexer": "ipython3",
      "version": "3.7.4"
    }
  },
  "nbformat": 4,
  "nbformat_minor": 0
}