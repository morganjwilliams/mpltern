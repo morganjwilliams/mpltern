{
  "cells": [
    {
      "cell_type": "code",
      "execution_count": null,
      "metadata": {
        "collapsed": false
      },
      "outputs": [],
      "source": [
        "%matplotlib inline"
      ]
    },
    {
      "cell_type": "markdown",
      "metadata": {},
      "source": [
        "\n# Scatter\n\n\nScatter plots can be done using ``ax.quiver``.\n"
      ]
    },
    {
      "cell_type": "code",
      "execution_count": null,
      "metadata": {
        "collapsed": false
      },
      "outputs": [],
      "source": [
        "import numpy as np\n\nimport matplotlib.pyplot as plt\nfrom mpltern.ternary.datasets import get_scatter_points\n\n\nt0, l0, r0 = get_scatter_points(100, seed=19)\nt1, l1, r1 = get_scatter_points(100, seed=68)\n\ndt = t1 - t0\ndl = l1 - l0\ndr = r1 - r0\n\nlength = np.sqrt(dt ** 2 + dl ** 2 + dr ** 2)\n\nfig = plt.figure(figsize=(10.8, 4.8))\nfig.subplots_adjust(left=0.075, right=0.85, wspace=0.3)\n\nax = fig.add_subplot(121, projection='ternary')\npc = ax.scatter(t0, l0, r0)\npc = ax.scatter(t1, l1, r1)\n\nax = fig.add_subplot(122, projection='ternary')\npc = ax.scatter(t0, l0, r0, c=length)\n\ncax = ax.inset_axes([1.05, 0.1, 0.05, 0.9], transform=ax.transAxes)\ncolorbar = fig.colorbar(pc, cax=cax)\ncolorbar.set_label('Length', rotation=270, va='baseline')\n\nplt.show()"
      ]
    }
  ],
  "metadata": {
    "kernelspec": {
      "display_name": "Python 3",
      "language": "python",
      "name": "python3"
    },
    "language_info": {
      "codemirror_mode": {
        "name": "ipython",
        "version": 3
      },
      "file_extension": ".py",
      "mimetype": "text/x-python",
      "name": "python",
      "nbconvert_exporter": "python",
      "pygments_lexer": "ipython3",
      "version": "3.7.4"
    }
  },
  "nbformat": 4,
  "nbformat_minor": 0
}