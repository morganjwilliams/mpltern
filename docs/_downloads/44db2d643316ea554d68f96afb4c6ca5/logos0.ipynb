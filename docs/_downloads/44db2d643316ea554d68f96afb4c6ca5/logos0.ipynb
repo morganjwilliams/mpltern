{
  "cells": [
    {
      "cell_type": "code",
      "execution_count": null,
      "metadata": {
        "collapsed": false
      },
      "outputs": [],
      "source": [
        "%matplotlib inline"
      ]
    },
    {
      "cell_type": "markdown",
      "metadata": {},
      "source": [
        "\n# Logo\n\n\nThis example generates the current mpltern logo.\n"
      ]
    },
    {
      "cell_type": "code",
      "execution_count": null,
      "metadata": {
        "collapsed": false
      },
      "outputs": [],
      "source": [
        "import matplotlib.pyplot as plt\nimport mpltern  # noqa: F401\n\n\ndef create_icon_axes(fig, ax_position, lw_border):\n    \"\"\"\n    Create a ternary axes containing the mpltern span plot.\n\n    Parameters\n    ----------\n    fig : matplotlib.figure.Figure\n        The figure to draw into.\n    ax_position : (float, float, float, float)\n        The position of the created Axes in figure coordinates as\n        (x, y, width, height).\n    lw_border : float\n        The linewidth of the Axes border.\n\n    Returns\n    -------\n    ax : matplotlib.axes.Axes\n        The created Axes.\n    \"\"\"\n    with plt.rc_context({'axes.linewidth': lw_border}):\n        ax = fig.add_axes(ax_position, projection='ternary')\n        ax.tick_params(\n            tick1On=False, tick2On=False, label1On=False, label2On=False)\n\n        ax.axtline(0.5, lw=lw_border, color='C0')\n        ax.axlline(0.5, lw=lw_border, color='C1')\n        ax.axrline(0.5, lw=lw_border, color='C2')\n        ax.axtspan(0.4, 0.6, color='C0', alpha=0.2)\n        ax.axlspan(0.4, 0.6, color='C1', alpha=0.2)\n        ax.axrspan(0.4, 0.6, color='C2', alpha=0.2)\n\n        return ax\n\n\ndef add_mpltern_text(ax):\n    ax.text(1.0, 0.5, \"mpltern\", fontsize=128,\n            ha='right', va='center', alpha=1.0, transform=ax.transAxes)\n\n\ndef make_logo(height_px, lw_border, with_text=False):\n    \"\"\"\n    Create a full figure with the mpltern logo.\n\n    Parameters\n    ----------\n    height_px : int\n        Height of the figure in pixel.\n    lw_border : float\n        The linewidth of icon border.\n    with_text : bool\n        Whether to draw only the icon or to include 'mpltern' as text.\n    \"\"\"\n    dpi = 72\n    height = height_px / dpi\n    figsize = (5.0 * height, height) if with_text else (height, height)\n    fig = plt.figure(figsize=figsize, dpi=dpi)\n    fig.patch.set_alpha(0)\n\n    if with_text:\n        ax = fig.add_axes([0., 0., 1., 1.])\n        add_mpltern_text(ax)\n        ax.axis('off')\n\n    ax_pos = (0.025, 0.075, 0.2, 0.85) if with_text else (0.1, 0.1, 0.8, 0.8)\n    ax = create_icon_axes(fig, ax_pos, lw_border)\n\n    return fig, ax"
      ]
    },
    {
      "cell_type": "markdown",
      "metadata": {},
      "source": [
        "A large logo:\n\n"
      ]
    },
    {
      "cell_type": "code",
      "execution_count": null,
      "metadata": {
        "collapsed": false
      },
      "outputs": [],
      "source": [
        "make_logo(height_px=128, lw_border=3)"
      ]
    },
    {
      "cell_type": "markdown",
      "metadata": {},
      "source": [
        "A large logo including text, as used on the mpltern website.\n\n"
      ]
    },
    {
      "cell_type": "code",
      "execution_count": null,
      "metadata": {
        "collapsed": false
      },
      "outputs": [],
      "source": [
        "make_logo(height_px=128, lw_border=3, with_text=True)\n\nplt.show()"
      ]
    }
  ],
  "metadata": {
    "kernelspec": {
      "display_name": "Python 3",
      "language": "python",
      "name": "python3"
    },
    "language_info": {
      "codemirror_mode": {
        "name": "ipython",
        "version": 3
      },
      "file_extension": ".py",
      "mimetype": "text/x-python",
      "name": "python",
      "nbconvert_exporter": "python",
      "pygments_lexer": "ipython3",
      "version": "3.7.4"
    }
  },
  "nbformat": 4,
  "nbformat_minor": 0
}