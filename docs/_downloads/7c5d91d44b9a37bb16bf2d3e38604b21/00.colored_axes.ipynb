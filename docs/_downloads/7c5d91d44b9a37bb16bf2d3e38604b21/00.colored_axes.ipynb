{
  "cells": [
    {
      "cell_type": "code",
      "execution_count": null,
      "metadata": {
        "collapsed": false
      },
      "outputs": [],
      "source": [
        "%matplotlib inline"
      ]
    },
    {
      "cell_type": "markdown",
      "metadata": {},
      "source": [
        "\n# Colored axes\n\n\nYou can give a different color for each axis.\n"
      ]
    },
    {
      "cell_type": "code",
      "execution_count": null,
      "metadata": {
        "collapsed": false
      },
      "outputs": [],
      "source": [
        "import matplotlib.pyplot as plt\nfrom mpltern.ternary.datasets import get_spiral\n\n\nfig = plt.figure()\nax = fig.add_subplot(projection='ternary')\n\nax.plot(*get_spiral(), color='k')\n\nax.set_tlabel('Top')\nax.set_llabel('Left')\nax.set_rlabel('Right')\n\nax.grid()\n\n# Color ticks, grids, tick-labels\nax.taxis.set_tick_params(tick2On=True, colors='C0', grid_color='C0')\nax.laxis.set_tick_params(tick2On=True, colors='C1', grid_color='C1')\nax.raxis.set_tick_params(tick2On=True, colors='C2', grid_color='C2')\n\n# Color labels\nax.taxis.label.set_color('C0')\nax.laxis.label.set_color('C1')\nax.raxis.label.set_color('C2')\n\n# Color spines\nax.spines['tside'].set_color('C0')\nax.spines['lside'].set_color('C1')\nax.spines['rside'].set_color('C2')\n\nplt.show()"
      ]
    }
  ],
  "metadata": {
    "kernelspec": {
      "display_name": "Python 3",
      "language": "python",
      "name": "python3"
    },
    "language_info": {
      "codemirror_mode": {
        "name": "ipython",
        "version": 3
      },
      "file_extension": ".py",
      "mimetype": "text/x-python",
      "name": "python",
      "nbconvert_exporter": "python",
      "pygments_lexer": "ipython3",
      "version": "3.7.4"
    }
  },
  "nbformat": 4,
  "nbformat_minor": 0
}