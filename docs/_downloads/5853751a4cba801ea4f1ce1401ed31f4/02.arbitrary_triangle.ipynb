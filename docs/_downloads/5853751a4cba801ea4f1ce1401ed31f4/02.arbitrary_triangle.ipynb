{
  "cells": [
    {
      "cell_type": "code",
      "execution_count": null,
      "metadata": {
        "collapsed": false
      },
      "outputs": [],
      "source": [
        "%matplotlib inline"
      ]
    },
    {
      "cell_type": "markdown",
      "metadata": {},
      "source": [
        "\n# Arbitrary triangle\n\n\nYou can make a ternary plot on an triangle with arbitrary shape.\n"
      ]
    },
    {
      "cell_type": "code",
      "execution_count": null,
      "metadata": {
        "collapsed": false
      },
      "outputs": [],
      "source": [
        "import matplotlib.pyplot as plt\nfrom mpltern.ternary.datasets import get_spiral\n\n\ncorners = ((0.0, 0.0), (0.5, 0.5), (-0.5, 1.0))\nax = plt.subplot(projection='ternary', corners=corners)\n\nax.plot(*get_spiral())\n\nax.set_tlabel('Top')\nax.set_llabel('Left')\nax.set_rlabel('Right')\n\nax.grid()\n\nplt.show()"
      ]
    }
  ],
  "metadata": {
    "kernelspec": {
      "display_name": "Python 3",
      "language": "python",
      "name": "python3"
    },
    "language_info": {
      "codemirror_mode": {
        "name": "ipython",
        "version": 3
      },
      "file_extension": ".py",
      "mimetype": "text/x-python",
      "name": "python",
      "nbconvert_exporter": "python",
      "pygments_lexer": "ipython3",
      "version": "3.7.4"
    }
  },
  "nbformat": 4,
  "nbformat_minor": 0
}