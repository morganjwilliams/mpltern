{
  "cells": [
    {
      "cell_type": "code",
      "execution_count": null,
      "metadata": {
        "collapsed": false
      },
      "outputs": [],
      "source": [
        "%matplotlib inline"
      ]
    },
    {
      "cell_type": "markdown",
      "metadata": {},
      "source": [
        "\n# Line and curve\n\n\nLines and curves can be put using ``ax.plot`` in the same way as Matplotlib.\n"
      ]
    },
    {
      "cell_type": "code",
      "execution_count": null,
      "metadata": {
        "collapsed": false
      },
      "outputs": [],
      "source": [
        "import matplotlib.pyplot as plt\nfrom mpltern.ternary.datasets import get_spiral\n\n\nax = plt.subplot(projection='ternary')\n\nax.plot([0.8, 0.6], [0.1, 0.2], [0.1, 0.2])\nax.plot([0.1, 0.2], [0.8, 0.6], [0.1, 0.2], marker='o')\nax.plot([0.1, 0.2], [0.1, 0.2], [0.8, 0.6], ls=':', marker='s', mfc='none')\n\nt, l, r = get_spiral()\nax.plot(t, l, r, color='k')\n\nplt.show()"
      ]
    }
  ],
  "metadata": {
    "kernelspec": {
      "display_name": "Python 3",
      "language": "python",
      "name": "python3"
    },
    "language_info": {
      "codemirror_mode": {
        "name": "ipython",
        "version": 3
      },
      "file_extension": ".py",
      "mimetype": "text/x-python",
      "name": "python",
      "nbconvert_exporter": "python",
      "pygments_lexer": "ipython3",
      "version": "3.7.4"
    }
  },
  "nbformat": 4,
  "nbformat_minor": 0
}