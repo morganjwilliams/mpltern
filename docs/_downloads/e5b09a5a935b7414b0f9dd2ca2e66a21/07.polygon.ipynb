{
  "cells": [
    {
      "cell_type": "code",
      "execution_count": null,
      "metadata": {
        "collapsed": false
      },
      "outputs": [],
      "source": [
        "%matplotlib inline"
      ]
    },
    {
      "cell_type": "markdown",
      "metadata": {},
      "source": [
        "\n# Polygon\n\n\nPolygons in ternary plots can be put using ``ax.fill``.\n"
      ]
    },
    {
      "cell_type": "code",
      "execution_count": null,
      "metadata": {
        "collapsed": false
      },
      "outputs": [],
      "source": [
        "import matplotlib.pyplot as plt\nimport mpltern  # noqa: F401\n\n\nax = plt.subplot(111, projection='ternary')\n\nt = [0.2, 0.4, 0.2]\nl = [0.0, 0.2, 0.4]\nr = [0.8, 0.4, 0.4]\nax.fill(t, l, r, alpha=0.2)\n\nt = [0.4, 0.6, 0.6, 0.4]\nl = [0.2, 0.2, 0.4, 0.4]\nr = [0.4, 0.2, 0.0, 0.2]\nax.fill(t, l, r, alpha=0.2)\n\nt = [0.2, 0.4, 0.4, 0.0, 0.0]\nl = [0.4, 0.4, 0.6, 1.0, 0.6]\nr = [0.4, 0.2, 0.0, 0.0, 0.4]\nax.fill(t, l, r, alpha=0.2)\n\nplt.show()"
      ]
    }
  ],
  "metadata": {
    "kernelspec": {
      "display_name": "Python 3",
      "language": "python",
      "name": "python3"
    },
    "language_info": {
      "codemirror_mode": {
        "name": "ipython",
        "version": 3
      },
      "file_extension": ".py",
      "mimetype": "text/x-python",
      "name": "python",
      "nbconvert_exporter": "python",
      "pygments_lexer": "ipython3",
      "version": "3.7.4"
    }
  },
  "nbformat": 4,
  "nbformat_minor": 0
}