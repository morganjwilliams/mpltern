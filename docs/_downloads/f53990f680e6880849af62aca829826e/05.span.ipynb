{
  "cells": [
    {
      "cell_type": "code",
      "execution_count": null,
      "metadata": {
        "collapsed": false
      },
      "outputs": [],
      "source": [
        "%matplotlib inline"
      ]
    },
    {
      "cell_type": "markdown",
      "metadata": {},
      "source": [
        "\n# Span\n\n\nA line or a band horizontal to an ternary axis can be plotted by the commands\n``axtline``, ``axlline``, ``axrline``, ``axtspan``, ``axlspan``, ``axrspan``.\n"
      ]
    },
    {
      "cell_type": "code",
      "execution_count": null,
      "metadata": {
        "collapsed": false
      },
      "outputs": [],
      "source": [
        "import matplotlib.pyplot as plt\nimport mpltern  # noqa: F401\n\n\nax = plt.subplot(projection='ternary')\n\nax.set_tlabel('Top')\nax.set_llabel('Left')\nax.set_rlabel('Right')\n\nax.axtline(0.2, c='C0')\nax.axlline(0.3, c='C1')\nax.axrline(0.4, c='C2')\n\nax.axtspan(0.3, 0.5, fc='C0', alpha=0.2)\nax.axlspan(0.4, 0.6, fc='C1', alpha=0.2)\nax.axrspan(0.5, 0.7, fc='C2', alpha=0.2)\n\nplt.show()"
      ]
    }
  ],
  "metadata": {
    "kernelspec": {
      "display_name": "Python 3",
      "language": "python",
      "name": "python3"
    },
    "language_info": {
      "codemirror_mode": {
        "name": "ipython",
        "version": 3
      },
      "file_extension": ".py",
      "mimetype": "text/x-python",
      "name": "python",
      "nbconvert_exporter": "python",
      "pygments_lexer": "ipython3",
      "version": "3.7.4"
    }
  },
  "nbformat": 4,
  "nbformat_minor": 0
}