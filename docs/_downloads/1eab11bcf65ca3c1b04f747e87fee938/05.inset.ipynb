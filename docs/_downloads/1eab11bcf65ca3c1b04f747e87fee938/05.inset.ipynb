{
  "cells": [
    {
      "cell_type": "code",
      "execution_count": null,
      "metadata": {
        "collapsed": false
      },
      "outputs": [],
      "source": [
        "%matplotlib inline"
      ]
    },
    {
      "cell_type": "markdown",
      "metadata": {},
      "source": [
        "\n# Inset\n\nYou can have an inset by adding another `TernaryAxes`.\n"
      ]
    },
    {
      "cell_type": "code",
      "execution_count": null,
      "metadata": {
        "collapsed": false
      },
      "outputs": [],
      "source": [
        "import matplotlib.pyplot as plt\nfrom mpltern.ternary.datasets import get_scatter_points\n\n\nt0, l0, r0 = get_scatter_points(seed=19)\nt1, l1, r1 = get_scatter_points(seed=68)\n\nfig = plt.figure()\nfig.subplots_adjust(left=-0.1)\n\nax = fig.add_subplot(projection='ternary')\n\nax.scatter(t0, l0, r0, alpha=0.5)\nax.scatter(t1, l1, r1, alpha=0.5)\n\n# Plot the triangle region for the inset.\nax.fill([0.4, 0.3, 0.3], [0.3, 0.4, 0.3], [0.3, 0.3, 0.4], fc='none', ec='k')\n\n# Create a new `TernaryAxes` for the inset with specifying a rectangle in the\n# figure coordinates.\naxins = fig.add_axes([0.625, 0.525, 0.30, 0.30], projection='ternary')\n\n# Limit the ploting range to be consistent with the above plotted triangle.\naxins.set_ternary_min(0.3, 0.3, 0.3)\n\naxins.scatter(t0, l0, r0, alpha=0.5)\naxins.scatter(t1, l1, r1, alpha=0.5)\n\nplt.show()"
      ]
    }
  ],
  "metadata": {
    "kernelspec": {
      "display_name": "Python 3",
      "language": "python",
      "name": "python3"
    },
    "language_info": {
      "codemirror_mode": {
        "name": "ipython",
        "version": 3
      },
      "file_extension": ".py",
      "mimetype": "text/x-python",
      "name": "python",
      "nbconvert_exporter": "python",
      "pygments_lexer": "ipython3",
      "version": "3.7.4"
    }
  },
  "nbformat": 4,
  "nbformat_minor": 0
}