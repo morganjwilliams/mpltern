{
  "cells": [
    {
      "cell_type": "code",
      "execution_count": null,
      "metadata": {
        "collapsed": false
      },
      "outputs": [],
      "source": [
        "%matplotlib inline"
      ]
    },
    {
      "cell_type": "markdown",
      "metadata": {},
      "source": [
        "\n# Ternary limits\n\n\nWe can limit the ranges of ternary axes.\n"
      ]
    },
    {
      "cell_type": "code",
      "execution_count": null,
      "metadata": {
        "collapsed": false
      },
      "outputs": [],
      "source": [
        "import matplotlib.pyplot as plt\nfrom mpltern.ternary.datasets import get_spiral\n\n\nax = plt.subplot(projection='ternary')\n\nax.plot(*get_spiral())\n\nax.set_tlabel('Top')\nax.set_llabel('Left')\nax.set_rlabel('Right')\n\n# Using ``ternary_lim``, you can limit the range of ternary axes.\n# Be sure about the consistency; the limit values must satisfy:\n# tmax + lmin + rmin = tmin + lmax + rmin = tmin + lmin + rmax = ternary_scale\nax.set_ternary_lim(\n    0.1, 0.5,  # tmin, tmax\n    0.2, 0.6,  # lmin, lmax\n    0.3, 0.7,  # rmin, rmax\n)\n\n# You can also use ``ternary_min`` and ``ternary_max`` as follows, where you do\n# not have to care the consistency above.\n# ax.set_ternary_min(0.1, 0.2, 0.3)\n# ax.set_ternary_max(0.5, 0.6, 0.7)\n\nplt.show()"
      ]
    }
  ],
  "metadata": {
    "kernelspec": {
      "display_name": "Python 3",
      "language": "python",
      "name": "python3"
    },
    "language_info": {
      "codemirror_mode": {
        "name": "ipython",
        "version": 3
      },
      "file_extension": ".py",
      "mimetype": "text/x-python",
      "name": "python",
      "nbconvert_exporter": "python",
      "pygments_lexer": "ipython3",
      "version": "3.7.4"
    }
  },
  "nbformat": 4,
  "nbformat_minor": 0
}