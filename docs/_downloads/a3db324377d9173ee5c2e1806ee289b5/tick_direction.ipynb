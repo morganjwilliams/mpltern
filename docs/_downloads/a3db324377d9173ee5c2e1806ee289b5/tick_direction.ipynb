{
  "cells": [
    {
      "cell_type": "code",
      "execution_count": null,
      "metadata": {
        "collapsed": false
      },
      "outputs": [],
      "source": [
        "%matplotlib inline"
      ]
    },
    {
      "cell_type": "markdown",
      "metadata": {},
      "source": [
        "\n# Tick direction\n\n\nTick direction can be changed via\n`ax.tick_params(direction={'in', 'out', 'inout'})`.\n"
      ]
    },
    {
      "cell_type": "code",
      "execution_count": null,
      "metadata": {
        "collapsed": false
      },
      "outputs": [],
      "source": [
        "import matplotlib.pyplot as plt\nimport mpltern\n\nfig = plt.figure(figsize=(14.4, 4.8))\nfig.subplots_adjust(left=0.075, right=0.925, wspace=0.3)\n\nax = fig.add_subplot(131, projection='ternary')\nax.tick_params(direction='in')\nax.set_title(\"ax.tick_params(direction='in')\", pad=36)\n\nax = fig.add_subplot(132, projection='ternary')\nax.tick_params(direction='out')\nax.set_title(\"ax.tick_params(direction='out')\", pad=36)\n\nax = fig.add_subplot(133, projection='ternary')\nax.tick_params(direction='inout')\nax.set_title(\"ax.tick_params(direction='inout')\", pad=36)\n\nplt.show()"
      ]
    }
  ],
  "metadata": {
    "kernelspec": {
      "display_name": "Python 3",
      "language": "python",
      "name": "python3"
    },
    "language_info": {
      "codemirror_mode": {
        "name": "ipython",
        "version": 3
      },
      "file_extension": ".py",
      "mimetype": "text/x-python",
      "name": "python",
      "nbconvert_exporter": "python",
      "pygments_lexer": "ipython3",
      "version": "3.7.4"
    }
  },
  "nbformat": 4,
  "nbformat_minor": 0
}