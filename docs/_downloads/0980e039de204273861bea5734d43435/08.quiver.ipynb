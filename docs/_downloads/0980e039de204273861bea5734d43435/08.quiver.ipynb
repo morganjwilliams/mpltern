{
  "cells": [
    {
      "cell_type": "code",
      "execution_count": null,
      "metadata": {
        "collapsed": false
      },
      "outputs": [],
      "source": [
        "%matplotlib inline"
      ]
    },
    {
      "cell_type": "markdown",
      "metadata": {},
      "source": [
        "\n# Quiver\n\n\n2D field of arrows can be plotted using ``ax.quiver``.\n"
      ]
    },
    {
      "cell_type": "code",
      "execution_count": null,
      "metadata": {
        "collapsed": false
      },
      "outputs": [],
      "source": [
        "import numpy as np\n\nimport matplotlib.pyplot as plt\nfrom mpltern.ternary.datasets import get_triangular_grid\n\n\nt, l, r = get_triangular_grid()\n\n# Arrows. The sum of the three must be zero.\ndt = 1.0 / 3.0 - t\ndl = 1.0 / 3.0 - l\ndr = 1.0 / 3.0 - r\n\nlength = np.sqrt(dt ** 2 + dl ** 2 + dr ** 2)\n\nfig = plt.figure(figsize=(10.8, 4.8))\nfig.subplots_adjust(left=0.075, right=0.85, wspace=0.3)\n\nax = fig.add_subplot(121, projection='ternary')\npc = ax.quiver(t, l, r, dt, dl, dr)\n\nax = fig.add_subplot(122, projection='ternary')\npc = ax.quiver(t, l, r, dt, dl, dr, length)\n\ncax = ax.inset_axes([1.05, 0.1, 0.05, 0.9], transform=ax.transAxes)\ncolorbar = fig.colorbar(pc, cax=cax)\ncolorbar.set_label('Length', rotation=270, va='baseline')\n\nplt.show()"
      ]
    }
  ],
  "metadata": {
    "kernelspec": {
      "display_name": "Python 3",
      "language": "python",
      "name": "python3"
    },
    "language_info": {
      "codemirror_mode": {
        "name": "ipython",
        "version": 3
      },
      "file_extension": ".py",
      "mimetype": "text/x-python",
      "name": "python",
      "nbconvert_exporter": "python",
      "pygments_lexer": "ipython3",
      "version": "3.7.4"
    }
  },
  "nbformat": 4,
  "nbformat_minor": 0
}