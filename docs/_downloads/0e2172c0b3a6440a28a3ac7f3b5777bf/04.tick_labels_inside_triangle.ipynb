{
  "cells": [
    {
      "cell_type": "code",
      "execution_count": null,
      "metadata": {
        "collapsed": false
      },
      "outputs": [],
      "source": [
        "%matplotlib inline"
      ]
    },
    {
      "cell_type": "markdown",
      "metadata": {},
      "source": [
        "\n# Tick labels inside triangle\n\n\nYou can put tick labels inside triangle by setting ``labelrotation=manual`` and\nthen specifying appropriate ``Text`` properties as follows.\n\n<div class=\"alert alert-info\"><h4>Note</h4><p>This works also in interactive modes. This is achieved by overriding\n    ``Axis._copy_tick_props`` also to update the *y* coordinate.</p></div>\n"
      ]
    },
    {
      "cell_type": "code",
      "execution_count": null,
      "metadata": {
        "collapsed": false
      },
      "outputs": [],
      "source": [
        "import matplotlib.pyplot as plt\nimport mpltern  # noqa: F401\n\n\nfig = plt.figure()\nax = fig.add_subplot(projection='ternary')\n\nax.set_tlabel('Top')\nax.set_llabel('Left')\nax.set_rlabel('Right')\n\nax.grid()\n\nax.tick_params(tick1On=False, tick2On=False)\n\n# By setting ``labelrotation='manual'``, automatic rotation and alignment for\n# tick labels are prohibited.\nax.taxis.set_tick_params(labelrotation=('manual',   0.0))\nax.laxis.set_tick_params(labelrotation=('manual', -60.0))\nax.raxis.set_tick_params(labelrotation=('manual',  60.0))\n\n# Then, ``Text`` properties you like can be passed directly by ``update``.\nkwargs = {'y': 0.5, 'ha': 'center', 'va': 'center', 'rotation_mode': 'anchor'}\ntkwargs = {'transform': ax.get_taxis_transform()}\nlkwargs = {'transform': ax.get_laxis_transform()}\nrkwargs = {'transform': ax.get_raxis_transform()}\ntkwargs.update(kwargs)\nlkwargs.update(kwargs)\nrkwargs.update(kwargs)\n[text.update(tkwargs) for text in ax.taxis.get_ticklabels()]\n[text.update(lkwargs) for text in ax.laxis.get_ticklabels()]\n[text.update(rkwargs) for text in ax.raxis.get_ticklabels()]\n\nplt.show()"
      ]
    }
  ],
  "metadata": {
    "kernelspec": {
      "display_name": "Python 3",
      "language": "python",
      "name": "python3"
    },
    "language_info": {
      "codemirror_mode": {
        "name": "ipython",
        "version": 3
      },
      "file_extension": ".py",
      "mimetype": "text/x-python",
      "name": "python",
      "nbconvert_exporter": "python",
      "pygments_lexer": "ipython3",
      "version": "3.7.4"
    }
  },
  "nbformat": 4,
  "nbformat_minor": 0
}