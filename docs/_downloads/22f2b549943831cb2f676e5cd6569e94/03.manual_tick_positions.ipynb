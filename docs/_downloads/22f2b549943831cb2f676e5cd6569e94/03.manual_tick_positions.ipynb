{
  "cells": [
    {
      "cell_type": "code",
      "execution_count": null,
      "metadata": {
        "collapsed": false
      },
      "outputs": [],
      "source": [
        "%matplotlib inline"
      ]
    },
    {
      "cell_type": "markdown",
      "metadata": {},
      "source": [
        "\n# Manual tick positions\n\n\nTick positions can be given manually in the same way as Matplotlib.\n\nThis feature may be useful e.g. when you do not want to show zero ticks to make\ncorner axis labels closer to the triangle.\n"
      ]
    },
    {
      "cell_type": "code",
      "execution_count": null,
      "metadata": {
        "collapsed": false
      },
      "outputs": [],
      "source": [
        "import matplotlib.pyplot as plt\nfrom mpltern.ternary.datasets import get_spiral\n\n\nax = plt.subplot(projection='ternary')\n\nax.plot(*get_spiral())\n\nax.grid()\n\nax.set_tlabel('Top')\nax.set_llabel('Left')\nax.set_rlabel('Right')\n\n# Specify tick positions manually.\nax.taxis.set_ticks([0.2, 0.4, 0.6, 0.8, 1.0])\nax.laxis.set_ticks([0.2, 0.4, 0.6, 0.8, 1.0])\nax.raxis.set_ticks([0.2, 0.4, 0.6, 0.8, 1.0])\n\nplt.show()"
      ]
    }
  ],
  "metadata": {
    "kernelspec": {
      "display_name": "Python 3",
      "language": "python",
      "name": "python3"
    },
    "language_info": {
      "codemirror_mode": {
        "name": "ipython",
        "version": 3
      },
      "file_extension": ".py",
      "mimetype": "text/x-python",
      "name": "python",
      "nbconvert_exporter": "python",
      "pygments_lexer": "ipython3",
      "version": "3.7.4"
    }
  },
  "nbformat": 4,
  "nbformat_minor": 0
}