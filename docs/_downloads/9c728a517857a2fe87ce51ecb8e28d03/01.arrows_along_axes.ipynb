{
  "cells": [
    {
      "cell_type": "code",
      "execution_count": null,
      "metadata": {
        "collapsed": false
      },
      "outputs": [],
      "source": [
        "%matplotlib inline"
      ]
    },
    {
      "cell_type": "markdown",
      "metadata": {},
      "source": [
        "\n# Arrows along axes\n\n\nArrows along the axes can be put in barycentric coordinates using transforms\nfor ``TernaryAxes`` in combination with ``FancyArrowPatch``.\n"
      ]
    },
    {
      "cell_type": "code",
      "execution_count": null,
      "metadata": {
        "collapsed": false
      },
      "outputs": [],
      "source": [
        "import numpy as np\n\nimport matplotlib.pyplot as plt\nfrom matplotlib.patches import ArrowStyle, FancyArrowPatch\nimport mpltern  # noqa: F401\n\nax = plt.subplot(projection='ternary')\n\narrowstyle = ArrowStyle('simple', head_length=10, head_width=5)\nkwargs_arrow = {\n    'transform': ax.transAxes,  # Used with ``ax.transAxesProjection``\n    'arrowstyle': arrowstyle,\n    'linewidth': 1,\n    'clip_on': False,  # To plot arrows outside triangle\n    'zorder': -10,  # Very low value not to hide e.g. tick labels.\n}\n\n# Start of arrows in barycentric coordinates.\nta = np.array([ 0.0, -0.1,  1.1])\nla = np.array([ 1.1,  0.0, -0.1])\nra = np.array([-0.1,  1.1,  0.0])\n\n# End of arrows in barycentric coordinates.\ntb = np.array([ 1.0, -0.1,  0.1])\nlb = np.array([ 0.1,  1.0, -0.1])\nrb = np.array([-0.1,  0.1,  1.0])\n\n# This transforms the above barycentric coordinates to the original Axes\n# coordinates. In combination with ``ax.transAxes``, we can plot arrows fixed\n# to the Axes coordinates.\nf = ax.transAxesProjection.transform\n\ntarrow = FancyArrowPatch(f(ta), f(tb), ec='C0', fc='C0', **kwargs_arrow)\nlarrow = FancyArrowPatch(f(la), f(lb), ec='C1', fc='C1', **kwargs_arrow)\nrarrow = FancyArrowPatch(f(ra), f(rb), ec='C2', fc='C2', **kwargs_arrow)\nax.add_patch(tarrow)\nax.add_patch(larrow)\nax.add_patch(rarrow)\n\n# To put the axis-labels at the positions consistent with the arrows above, it\n# may be better to put the axis-label-text directly as follows rather than\n# using e.g.  ax.set_tlabel.\nkwargs_label = {\n    'transform': ax.transTernaryAxes,\n    'backgroundcolor': 'w',\n    'ha': 'center',\n    'va': 'center',\n    'rotation_mode': 'anchor',\n    'zorder': -9,  # A bit higher on arrows, but still lower than others.\n}\n\n# Put axis-labels on the midpoints of arrows.\ntpos = (ta + tb) * 0.5\nlpos = (la + lb) * 0.5\nrpos = (ra + rb) * 0.5\n\nax.text(*tpos, 'Top'  , color='C0', rotation=-60, **kwargs_label)\nax.text(*lpos, 'Left' , color='C1', rotation= 60, **kwargs_label)\nax.text(*rpos, 'Right', color='C2', rotation=  0, **kwargs_label)\n\nplt.show()"
      ]
    }
  ],
  "metadata": {
    "kernelspec": {
      "display_name": "Python 3",
      "language": "python",
      "name": "python3"
    },
    "language_info": {
      "codemirror_mode": {
        "name": "ipython",
        "version": 3
      },
      "file_extension": ".py",
      "mimetype": "text/x-python",
      "name": "python",
      "nbconvert_exporter": "python",
      "pygments_lexer": "ipython3",
      "version": "3.7.4"
    }
  },
  "nbformat": 4,
  "nbformat_minor": 0
}